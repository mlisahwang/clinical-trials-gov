{
 "cells": [
  {
   "cell_type": "markdown",
   "metadata": {},
   "source": [
    "# ClinicalTrials.gov Dataset\n",
    "## Notebook 3: Modeling"
   ]
  },
  {
   "cell_type": "markdown",
   "metadata": {},
   "source": [
    "This notebook contains models for predicting a ClinicalTrials.gov record's study type (interventional or observational), based on its title.\n",
    "\n",
    "From https://clinicaltrials.gov/ct2/about-studies/glossary: \n",
    "\n",
    "- **Interventional study:** A type of clinical study in which participants are assigned to groups that receive one or more intervention/treatment (or no intervention) so that researchers can evaluate the effects of the interventions on biomedical or health-related outcomes. The assignments are determined by the study's protocol. Participants may receive diagnostic, therapeutic, or other types of interventions.\n",
    "\n",
    "- **Observational study:** A type of clinical study in which participants are identified as belonging to study groups and are assessed for biomedical or health outcomes. Participants may receive diagnostic, therapeutic, or other types of interventions, but the investigator does not assign participants to a specific interventions/treatment. A patient registry is a type of observational study.\n",
    "\n",
    "- **Expanded access:** A way for patients with serious diseases or conditions who cannot participate in a clinical trial to gain access to a medical product that has not been approved by the U.S. Food and Drug Administration (FDA). Also called compassionate use. There are different expanded access types.\n",
    "\n",
    "I will use logistic regression and neural networks for modeling."
   ]
  },
  {
   "cell_type": "markdown",
   "metadata": {},
   "source": [
    "### Importing libraries"
   ]
  },
  {
   "cell_type": "code",
   "execution_count": 1,
   "metadata": {},
   "outputs": [],
   "source": [
    "import pandas as pd\n",
    "import numpy as np\n",
    "import matplotlib.pyplot as plt\n",
    "\n",
    "from sklearn.feature_extraction.text import CountVectorizer\n",
    "from sklearn.model_selection import train_test_split\n",
    "from sklearn.linear_model import LogisticRegression\n",
    "from sklearn.metrics import confusion_matrix\n",
    "from sklearn.preprocessing import StandardScaler\n",
    "\n",
    "from tensorflow.keras.models import Sequential\n",
    "from tensorflow.keras.layers import Dense\n",
    "\n",
    "np.random.seed(2020)"
   ]
  },
  {
   "cell_type": "markdown",
   "metadata": {},
   "source": [
    "### Reviewing the data"
   ]
  },
  {
   "cell_type": "code",
   "execution_count": 2,
   "metadata": {},
   "outputs": [
    {
     "data": {
      "text/html": [
       "<div>\n",
       "<style scoped>\n",
       "    .dataframe tbody tr th:only-of-type {\n",
       "        vertical-align: middle;\n",
       "    }\n",
       "\n",
       "    .dataframe tbody tr th {\n",
       "        vertical-align: top;\n",
       "    }\n",
       "\n",
       "    .dataframe thead th {\n",
       "        text-align: right;\n",
       "    }\n",
       "</style>\n",
       "<table border=\"1\" class=\"dataframe\">\n",
       "  <thead>\n",
       "    <tr style=\"text-align: right;\">\n",
       "      <th></th>\n",
       "      <th>nct_id</th>\n",
       "      <th>title</th>\n",
       "      <th>study_type</th>\n",
       "    </tr>\n",
       "    <tr>\n",
       "      <th>date</th>\n",
       "      <th></th>\n",
       "      <th></th>\n",
       "      <th></th>\n",
       "    </tr>\n",
       "  </thead>\n",
       "  <tbody>\n",
       "    <tr>\n",
       "      <th>2017-08-28</th>\n",
       "      <td>NCT03266497</td>\n",
       "      <td>Diet Quality Among U.S.-Born and Foreign-born ...</td>\n",
       "      <td>Observational</td>\n",
       "    </tr>\n",
       "    <tr>\n",
       "      <th>2017-08-24</th>\n",
       "      <td>NCT03262987</td>\n",
       "      <td>Color Doppler U/S vs MSCT Venography in the Di...</td>\n",
       "      <td>Observational</td>\n",
       "    </tr>\n",
       "    <tr>\n",
       "      <th>2017-08-21</th>\n",
       "      <td>NCT03260543</td>\n",
       "      <td>A 12-week, Randomized, Double-blind, Placebo-c...</td>\n",
       "      <td>Interventional</td>\n",
       "    </tr>\n",
       "    <tr>\n",
       "      <th>2017-08-23</th>\n",
       "      <td>NCT03263416</td>\n",
       "      <td>Regional, Multicentric, Randomized Study Evalu...</td>\n",
       "      <td>Interventional</td>\n",
       "    </tr>\n",
       "    <tr>\n",
       "      <th>2017-08-28</th>\n",
       "      <td>NCT03266614</td>\n",
       "      <td>\"Recovery 4 US\" - A Photovoice-based Social Me...</td>\n",
       "      <td>Interventional</td>\n",
       "    </tr>\n",
       "  </tbody>\n",
       "</table>\n",
       "</div>"
      ],
      "text/plain": [
       "                 nct_id                                              title  \\\n",
       "date                                                                         \n",
       "2017-08-28  NCT03266497  Diet Quality Among U.S.-Born and Foreign-born ...   \n",
       "2017-08-24  NCT03262987  Color Doppler U/S vs MSCT Venography in the Di...   \n",
       "2017-08-21  NCT03260543  A 12-week, Randomized, Double-blind, Placebo-c...   \n",
       "2017-08-23  NCT03263416  Regional, Multicentric, Randomized Study Evalu...   \n",
       "2017-08-28  NCT03266614  \"Recovery 4 US\" - A Photovoice-based Social Me...   \n",
       "\n",
       "                study_type  \n",
       "date                        \n",
       "2017-08-28   Observational  \n",
       "2017-08-24   Observational  \n",
       "2017-08-21  Interventional  \n",
       "2017-08-23  Interventional  \n",
       "2017-08-28  Interventional  "
      ]
     },
     "execution_count": 2,
     "metadata": {},
     "output_type": "execute_result"
    }
   ],
   "source": [
    "# Reading in the dataset, a CSV containing the study records\n",
    "ct = pd.read_csv('data/all_records_final.csv')\n",
    "ct.set_index('date', inplace = True)\n",
    "ct.head()"
   ]
  },
  {
   "cell_type": "code",
   "execution_count": 3,
   "metadata": {},
   "outputs": [
    {
     "data": {
      "text/plain": [
       "Interventional     0.793467\n",
       "Observational      0.204731\n",
       "Expanded Access    0.001803\n",
       "Name: study_type, dtype: float64"
      ]
     },
     "execution_count": 3,
     "metadata": {},
     "output_type": "execute_result"
    }
   ],
   "source": [
    "# Looking at the trial types in the dataset\n",
    "ct['study_type'].value_counts(normalize = True)"
   ]
  },
  {
   "cell_type": "markdown",
   "metadata": {},
   "source": [
    "I will remove the Expanded Access studies since they make up only 0.1803% of the dataset."
   ]
  },
  {
   "cell_type": "code",
   "execution_count": 4,
   "metadata": {},
   "outputs": [
    {
     "data": {
      "text/html": [
       "<div>\n",
       "<style scoped>\n",
       "    .dataframe tbody tr th:only-of-type {\n",
       "        vertical-align: middle;\n",
       "    }\n",
       "\n",
       "    .dataframe tbody tr th {\n",
       "        vertical-align: top;\n",
       "    }\n",
       "\n",
       "    .dataframe thead th {\n",
       "        text-align: right;\n",
       "    }\n",
       "</style>\n",
       "<table border=\"1\" class=\"dataframe\">\n",
       "  <thead>\n",
       "    <tr style=\"text-align: right;\">\n",
       "      <th></th>\n",
       "      <th>nct_id</th>\n",
       "      <th>title</th>\n",
       "      <th>study_type</th>\n",
       "    </tr>\n",
       "    <tr>\n",
       "      <th>date</th>\n",
       "      <th></th>\n",
       "      <th></th>\n",
       "      <th></th>\n",
       "    </tr>\n",
       "  </thead>\n",
       "  <tbody>\n",
       "    <tr>\n",
       "      <th>2017-08-28</th>\n",
       "      <td>NCT03266497</td>\n",
       "      <td>Diet Quality Among U.S.-Born and Foreign-born ...</td>\n",
       "      <td>Observational</td>\n",
       "    </tr>\n",
       "    <tr>\n",
       "      <th>2017-08-24</th>\n",
       "      <td>NCT03262987</td>\n",
       "      <td>Color Doppler U/S vs MSCT Venography in the Di...</td>\n",
       "      <td>Observational</td>\n",
       "    </tr>\n",
       "    <tr>\n",
       "      <th>2017-08-21</th>\n",
       "      <td>NCT03260543</td>\n",
       "      <td>A 12-week, Randomized, Double-blind, Placebo-c...</td>\n",
       "      <td>Interventional</td>\n",
       "    </tr>\n",
       "    <tr>\n",
       "      <th>2017-08-23</th>\n",
       "      <td>NCT03263416</td>\n",
       "      <td>Regional, Multicentric, Randomized Study Evalu...</td>\n",
       "      <td>Interventional</td>\n",
       "    </tr>\n",
       "    <tr>\n",
       "      <th>2017-08-28</th>\n",
       "      <td>NCT03266614</td>\n",
       "      <td>\"Recovery 4 US\" - A Photovoice-based Social Me...</td>\n",
       "      <td>Interventional</td>\n",
       "    </tr>\n",
       "  </tbody>\n",
       "</table>\n",
       "</div>"
      ],
      "text/plain": [
       "                 nct_id                                              title  \\\n",
       "date                                                                         \n",
       "2017-08-28  NCT03266497  Diet Quality Among U.S.-Born and Foreign-born ...   \n",
       "2017-08-24  NCT03262987  Color Doppler U/S vs MSCT Venography in the Di...   \n",
       "2017-08-21  NCT03260543  A 12-week, Randomized, Double-blind, Placebo-c...   \n",
       "2017-08-23  NCT03263416  Regional, Multicentric, Randomized Study Evalu...   \n",
       "2017-08-28  NCT03266614  \"Recovery 4 US\" - A Photovoice-based Social Me...   \n",
       "\n",
       "                study_type  \n",
       "date                        \n",
       "2017-08-28   Observational  \n",
       "2017-08-24   Observational  \n",
       "2017-08-21  Interventional  \n",
       "2017-08-23  Interventional  \n",
       "2017-08-28  Interventional  "
      ]
     },
     "execution_count": 4,
     "metadata": {},
     "output_type": "execute_result"
    }
   ],
   "source": [
    "df = ct[ct['study_type'] != 'Expanded Access']\n",
    "df.head()"
   ]
  },
  {
   "cell_type": "code",
   "execution_count": 5,
   "metadata": {},
   "outputs": [
    {
     "data": {
      "text/plain": [
       "Interventional    253069\n",
       "Observational      65297\n",
       "Name: study_type, dtype: int64"
      ]
     },
     "execution_count": 5,
     "metadata": {},
     "output_type": "execute_result"
    }
   ],
   "source": [
    "# Making sure the expanded access study was removed\n",
    "df['study_type'].value_counts()"
   ]
  },
  {
   "cell_type": "markdown",
   "metadata": {},
   "source": [
    "### Using CountVectorizer\n",
    "\n",
    "Since ClinicalTrials.gov records do not have consistent numerical data, I will be focusing on textual data or more precisely, on words in study titles. I'm going to start by using CountVectorizer and then seeing if certain words can be used to predict if a study is either observational or interventional."
   ]
  },
  {
   "cell_type": "code",
   "execution_count": 6,
   "metadata": {},
   "outputs": [
    {
     "name": "stderr",
     "output_type": "stream",
     "text": [
      "/opt/anaconda3/lib/python3.7/site-packages/ipykernel_launcher.py:2: SettingWithCopyWarning: \n",
      "A value is trying to be set on a copy of a slice from a DataFrame.\n",
      "Try using .loc[row_indexer,col_indexer] = value instead\n",
      "\n",
      "See the caveats in the documentation: http://pandas.pydata.org/pandas-docs/stable/user_guide/indexing.html#returning-a-view-versus-a-copy\n",
      "  \n"
     ]
    },
    {
     "data": {
      "text/html": [
       "<div>\n",
       "<style scoped>\n",
       "    .dataframe tbody tr th:only-of-type {\n",
       "        vertical-align: middle;\n",
       "    }\n",
       "\n",
       "    .dataframe tbody tr th {\n",
       "        vertical-align: top;\n",
       "    }\n",
       "\n",
       "    .dataframe thead th {\n",
       "        text-align: right;\n",
       "    }\n",
       "</style>\n",
       "<table border=\"1\" class=\"dataframe\">\n",
       "  <thead>\n",
       "    <tr style=\"text-align: right;\">\n",
       "      <th></th>\n",
       "      <th>nct_id</th>\n",
       "      <th>title</th>\n",
       "      <th>study_type</th>\n",
       "    </tr>\n",
       "    <tr>\n",
       "      <th>date</th>\n",
       "      <th></th>\n",
       "      <th></th>\n",
       "      <th></th>\n",
       "    </tr>\n",
       "  </thead>\n",
       "  <tbody>\n",
       "    <tr>\n",
       "      <th>2017-08-28</th>\n",
       "      <td>NCT03266497</td>\n",
       "      <td>Diet Quality Among U.S.-Born and Foreign-born ...</td>\n",
       "      <td>0</td>\n",
       "    </tr>\n",
       "    <tr>\n",
       "      <th>2017-08-24</th>\n",
       "      <td>NCT03262987</td>\n",
       "      <td>Color Doppler U/S vs MSCT Venography in the Di...</td>\n",
       "      <td>0</td>\n",
       "    </tr>\n",
       "    <tr>\n",
       "      <th>2017-08-21</th>\n",
       "      <td>NCT03260543</td>\n",
       "      <td>A 12-week, Randomized, Double-blind, Placebo-c...</td>\n",
       "      <td>1</td>\n",
       "    </tr>\n",
       "    <tr>\n",
       "      <th>2017-08-23</th>\n",
       "      <td>NCT03263416</td>\n",
       "      <td>Regional, Multicentric, Randomized Study Evalu...</td>\n",
       "      <td>1</td>\n",
       "    </tr>\n",
       "    <tr>\n",
       "      <th>2017-08-28</th>\n",
       "      <td>NCT03266614</td>\n",
       "      <td>\"Recovery 4 US\" - A Photovoice-based Social Me...</td>\n",
       "      <td>1</td>\n",
       "    </tr>\n",
       "  </tbody>\n",
       "</table>\n",
       "</div>"
      ],
      "text/plain": [
       "                 nct_id                                              title  \\\n",
       "date                                                                         \n",
       "2017-08-28  NCT03266497  Diet Quality Among U.S.-Born and Foreign-born ...   \n",
       "2017-08-24  NCT03262987  Color Doppler U/S vs MSCT Venography in the Di...   \n",
       "2017-08-21  NCT03260543  A 12-week, Randomized, Double-blind, Placebo-c...   \n",
       "2017-08-23  NCT03263416  Regional, Multicentric, Randomized Study Evalu...   \n",
       "2017-08-28  NCT03266614  \"Recovery 4 US\" - A Photovoice-based Social Me...   \n",
       "\n",
       "            study_type  \n",
       "date                    \n",
       "2017-08-28           0  \n",
       "2017-08-24           0  \n",
       "2017-08-21           1  \n",
       "2017-08-23           1  \n",
       "2017-08-28           1  "
      ]
     },
     "execution_count": 6,
     "metadata": {},
     "output_type": "execute_result"
    }
   ],
   "source": [
    "# Converting study types to numerical values\n",
    "df['study_type'] = df['study_type'].map({'Interventional': 1, 'Observational': 0})\n",
    "df.head()"
   ]
  },
  {
   "cell_type": "code",
   "execution_count": 7,
   "metadata": {},
   "outputs": [
    {
     "data": {
      "text/plain": [
       "1    253069\n",
       "0     65297\n",
       "Name: study_type, dtype: int64"
      ]
     },
     "execution_count": 7,
     "metadata": {},
     "output_type": "execute_result"
    }
   ],
   "source": [
    "df['study_type'].value_counts()"
   ]
  },
  {
   "cell_type": "code",
   "execution_count": 8,
   "metadata": {},
   "outputs": [],
   "source": [
    "# Setting up the X and y variables\n",
    "X = df['title']\n",
    "y = df['study_type']"
   ]
  },
  {
   "cell_type": "code",
   "execution_count": 9,
   "metadata": {},
   "outputs": [
    {
     "data": {
      "text/plain": [
       "1    0.7949\n",
       "0    0.2051\n",
       "Name: study_type, dtype: float64"
      ]
     },
     "execution_count": 9,
     "metadata": {},
     "output_type": "execute_result"
    }
   ],
   "source": [
    "y.value_counts(normalize = True)"
   ]
  },
  {
   "cell_type": "markdown",
   "metadata": {},
   "source": [
    "Ideally, I will be able to create a model that can predict study type more accurately than 79% which is the percentage of interventional trials in the dataset."
   ]
  },
  {
   "cell_type": "markdown",
   "metadata": {},
   "source": [
    "#### Train/test split"
   ]
  },
  {
   "cell_type": "code",
   "execution_count": 10,
   "metadata": {},
   "outputs": [],
   "source": [
    "X_train, X_test, y_train, y_test = train_test_split(X,\n",
    "                                                    y,\n",
    "                                                    test_size = 0.20,\n",
    "                                                    stratify = y, \n",
    "                                                    random_state = 88)"
   ]
  },
  {
   "cell_type": "code",
   "execution_count": 11,
   "metadata": {},
   "outputs": [],
   "source": [
    "# For use with predictions later on\n",
    "X_test_original = X_test.copy()"
   ]
  },
  {
   "cell_type": "markdown",
   "metadata": {},
   "source": [
    "#### Count vectorizer"
   ]
  },
  {
   "cell_type": "code",
   "execution_count": 12,
   "metadata": {},
   "outputs": [],
   "source": [
    "cvec = CountVectorizer(analyzer = \"word\",\n",
    "                             tokenizer = None,\n",
    "                             preprocessor = None,\n",
    "                             stop_words = 'english',\n",
    "                             max_features = 5000) "
   ]
  },
  {
   "cell_type": "code",
   "execution_count": 13,
   "metadata": {},
   "outputs": [
    {
     "data": {
      "text/plain": [
       "CountVectorizer(analyzer='word', binary=False, decode_error='strict',\n",
       "                dtype=<class 'numpy.int64'>, encoding='utf-8', input='content',\n",
       "                lowercase=True, max_df=1.0, max_features=5000, min_df=1,\n",
       "                ngram_range=(1, 1), preprocessor=None, stop_words='english',\n",
       "                strip_accents=None, token_pattern='(?u)\\\\b\\\\w\\\\w+\\\\b',\n",
       "                tokenizer=None, vocabulary=None)"
      ]
     },
     "execution_count": 13,
     "metadata": {},
     "output_type": "execute_result"
    }
   ],
   "source": [
    "cvec.fit(X_train)"
   ]
  },
  {
   "cell_type": "code",
   "execution_count": 14,
   "metadata": {},
   "outputs": [],
   "source": [
    "X_train = cvec.transform(X_train)\n",
    "X_test = cvec.transform(X_test)"
   ]
  },
  {
   "cell_type": "code",
   "execution_count": 15,
   "metadata": {},
   "outputs": [
    {
     "data": {
      "text/html": [
       "<div>\n",
       "<style scoped>\n",
       "    .dataframe tbody tr th:only-of-type {\n",
       "        vertical-align: middle;\n",
       "    }\n",
       "\n",
       "    .dataframe tbody tr th {\n",
       "        vertical-align: top;\n",
       "    }\n",
       "\n",
       "    .dataframe thead th {\n",
       "        text-align: right;\n",
       "    }\n",
       "</style>\n",
       "<table border=\"1\" class=\"dataframe\">\n",
       "  <thead>\n",
       "    <tr style=\"text-align: right;\">\n",
       "      <th></th>\n",
       "      <th>00</th>\n",
       "      <th>000</th>\n",
       "      <th>001</th>\n",
       "      <th>002</th>\n",
       "      <th>003</th>\n",
       "      <th>004</th>\n",
       "      <th>005</th>\n",
       "      <th>007</th>\n",
       "      <th>01</th>\n",
       "      <th>02</th>\n",
       "      <th>...</th>\n",
       "      <th>zambia</th>\n",
       "      <th>zd1839</th>\n",
       "      <th>zidovudine</th>\n",
       "      <th>zinc</th>\n",
       "      <th>ziprasidone</th>\n",
       "      <th>zoledronic</th>\n",
       "      <th>zone</th>\n",
       "      <th>zoster</th>\n",
       "      <th>µg</th>\n",
       "      <th>μg</th>\n",
       "    </tr>\n",
       "  </thead>\n",
       "  <tbody>\n",
       "    <tr>\n",
       "      <th>0</th>\n",
       "      <td>0</td>\n",
       "      <td>0</td>\n",
       "      <td>0</td>\n",
       "      <td>0</td>\n",
       "      <td>0</td>\n",
       "      <td>0</td>\n",
       "      <td>0</td>\n",
       "      <td>0</td>\n",
       "      <td>0</td>\n",
       "      <td>0</td>\n",
       "      <td>...</td>\n",
       "      <td>0</td>\n",
       "      <td>0</td>\n",
       "      <td>0</td>\n",
       "      <td>0</td>\n",
       "      <td>0</td>\n",
       "      <td>0</td>\n",
       "      <td>0</td>\n",
       "      <td>0</td>\n",
       "      <td>0</td>\n",
       "      <td>0</td>\n",
       "    </tr>\n",
       "    <tr>\n",
       "      <th>1</th>\n",
       "      <td>0</td>\n",
       "      <td>0</td>\n",
       "      <td>0</td>\n",
       "      <td>0</td>\n",
       "      <td>0</td>\n",
       "      <td>0</td>\n",
       "      <td>0</td>\n",
       "      <td>0</td>\n",
       "      <td>0</td>\n",
       "      <td>0</td>\n",
       "      <td>...</td>\n",
       "      <td>0</td>\n",
       "      <td>0</td>\n",
       "      <td>0</td>\n",
       "      <td>0</td>\n",
       "      <td>0</td>\n",
       "      <td>0</td>\n",
       "      <td>0</td>\n",
       "      <td>0</td>\n",
       "      <td>0</td>\n",
       "      <td>0</td>\n",
       "    </tr>\n",
       "    <tr>\n",
       "      <th>2</th>\n",
       "      <td>0</td>\n",
       "      <td>0</td>\n",
       "      <td>0</td>\n",
       "      <td>0</td>\n",
       "      <td>0</td>\n",
       "      <td>0</td>\n",
       "      <td>0</td>\n",
       "      <td>0</td>\n",
       "      <td>0</td>\n",
       "      <td>0</td>\n",
       "      <td>...</td>\n",
       "      <td>0</td>\n",
       "      <td>0</td>\n",
       "      <td>0</td>\n",
       "      <td>0</td>\n",
       "      <td>0</td>\n",
       "      <td>0</td>\n",
       "      <td>0</td>\n",
       "      <td>0</td>\n",
       "      <td>0</td>\n",
       "      <td>0</td>\n",
       "    </tr>\n",
       "    <tr>\n",
       "      <th>3</th>\n",
       "      <td>0</td>\n",
       "      <td>0</td>\n",
       "      <td>0</td>\n",
       "      <td>0</td>\n",
       "      <td>0</td>\n",
       "      <td>0</td>\n",
       "      <td>0</td>\n",
       "      <td>0</td>\n",
       "      <td>0</td>\n",
       "      <td>0</td>\n",
       "      <td>...</td>\n",
       "      <td>0</td>\n",
       "      <td>0</td>\n",
       "      <td>0</td>\n",
       "      <td>0</td>\n",
       "      <td>0</td>\n",
       "      <td>0</td>\n",
       "      <td>0</td>\n",
       "      <td>0</td>\n",
       "      <td>0</td>\n",
       "      <td>0</td>\n",
       "    </tr>\n",
       "    <tr>\n",
       "      <th>4</th>\n",
       "      <td>0</td>\n",
       "      <td>0</td>\n",
       "      <td>0</td>\n",
       "      <td>0</td>\n",
       "      <td>0</td>\n",
       "      <td>0</td>\n",
       "      <td>0</td>\n",
       "      <td>0</td>\n",
       "      <td>0</td>\n",
       "      <td>0</td>\n",
       "      <td>...</td>\n",
       "      <td>0</td>\n",
       "      <td>0</td>\n",
       "      <td>0</td>\n",
       "      <td>0</td>\n",
       "      <td>0</td>\n",
       "      <td>0</td>\n",
       "      <td>0</td>\n",
       "      <td>0</td>\n",
       "      <td>0</td>\n",
       "      <td>0</td>\n",
       "    </tr>\n",
       "  </tbody>\n",
       "</table>\n",
       "<p>5 rows × 5000 columns</p>\n",
       "</div>"
      ],
      "text/plain": [
       "   00  000  001  002  003  004  005  007  01  02  ...  zambia  zd1839  \\\n",
       "0   0    0    0    0    0    0    0    0   0   0  ...       0       0   \n",
       "1   0    0    0    0    0    0    0    0   0   0  ...       0       0   \n",
       "2   0    0    0    0    0    0    0    0   0   0  ...       0       0   \n",
       "3   0    0    0    0    0    0    0    0   0   0  ...       0       0   \n",
       "4   0    0    0    0    0    0    0    0   0   0  ...       0       0   \n",
       "\n",
       "   zidovudine  zinc  ziprasidone  zoledronic  zone  zoster  µg  μg  \n",
       "0           0     0            0           0     0       0   0   0  \n",
       "1           0     0            0           0     0       0   0   0  \n",
       "2           0     0            0           0     0       0   0   0  \n",
       "3           0     0            0           0     0       0   0   0  \n",
       "4           0     0            0           0     0       0   0   0  \n",
       "\n",
       "[5 rows x 5000 columns]"
      ]
     },
     "execution_count": 15,
     "metadata": {},
     "output_type": "execute_result"
    }
   ],
   "source": [
    "# Getting a dataframe of X_train words\n",
    "X_train_df = pd.DataFrame(X_train.toarray(),\n",
    "                          columns=(cvec.get_feature_names()))\n",
    "X_train_df.head()"
   ]
  },
  {
   "cell_type": "markdown",
   "metadata": {},
   "source": [
    "### Logistic regression model"
   ]
  },
  {
   "cell_type": "code",
   "execution_count": 16,
   "metadata": {},
   "outputs": [
    {
     "name": "stdout",
     "output_type": "stream",
     "text": [
      "Training Score: 0.884770624911658\n",
      "Testing Score: 0.8762603260357446\n"
     ]
    },
    {
     "name": "stderr",
     "output_type": "stream",
     "text": [
      "/opt/anaconda3/lib/python3.7/site-packages/sklearn/linear_model/logistic.py:947: ConvergenceWarning: lbfgs failed to converge. Increase the number of iterations.\n",
      "  \"of iterations.\", ConvergenceWarning)\n"
     ]
    }
   ],
   "source": [
    "# Instantiating logistic regression\n",
    "lr = LogisticRegression(solver = 'lbfgs', class_weight = 'auto', max_iter = 200, random_state = 88)\n",
    "\n",
    "# Fitting logistic regression\n",
    "lr.fit(X_train, y_train)\n",
    "\n",
    "# Evaluating the model\n",
    "print(f'Training Score: {lr.score(X_train, y_train)}')\n",
    "print(f'Testing Score: {lr.score(X_test, y_test)}')"
   ]
  },
  {
   "cell_type": "markdown",
   "metadata": {},
   "source": [
    "My model is able to predict if a study title is accurate with an accuracy score of ```0.8763```, better than 79%! This test score is quite close to the train score of ```0.8848```."
   ]
  },
  {
   "cell_type": "markdown",
   "metadata": {},
   "source": [
    "#### Generating predictions\n",
    "I want to see some titles which were predicted accurately and which were predicted incorrectly."
   ]
  },
  {
   "cell_type": "code",
   "execution_count": 17,
   "metadata": {},
   "outputs": [],
   "source": [
    "# Setting up the dataframe of predictions\n",
    "predictions = pd.DataFrame(X_test_original)"
   ]
  },
  {
   "cell_type": "code",
   "execution_count": 18,
   "metadata": {},
   "outputs": [],
   "source": [
    "# Creating the predicted column\n",
    "predictions['predicted'] = lr.predict(X_test)"
   ]
  },
  {
   "cell_type": "code",
   "execution_count": 19,
   "metadata": {},
   "outputs": [
    {
     "data": {
      "text/html": [
       "<div>\n",
       "<style scoped>\n",
       "    .dataframe tbody tr th:only-of-type {\n",
       "        vertical-align: middle;\n",
       "    }\n",
       "\n",
       "    .dataframe tbody tr th {\n",
       "        vertical-align: top;\n",
       "    }\n",
       "\n",
       "    .dataframe thead th {\n",
       "        text-align: right;\n",
       "    }\n",
       "</style>\n",
       "<table border=\"1\" class=\"dataframe\">\n",
       "  <thead>\n",
       "    <tr style=\"text-align: right;\">\n",
       "      <th></th>\n",
       "      <th>title</th>\n",
       "      <th>predicted</th>\n",
       "      <th>actual</th>\n",
       "    </tr>\n",
       "    <tr>\n",
       "      <th>date</th>\n",
       "      <th></th>\n",
       "      <th></th>\n",
       "      <th></th>\n",
       "    </tr>\n",
       "  </thead>\n",
       "  <tbody>\n",
       "    <tr>\n",
       "      <th>2014-11-10</th>\n",
       "      <td>Examining the Feasibility and Efficacy of Adve...</td>\n",
       "      <td>1</td>\n",
       "      <td>1</td>\n",
       "    </tr>\n",
       "    <tr>\n",
       "      <th>2005-05-26</th>\n",
       "      <td>Effects of Tumor Necrosis Factor (TNF)-Alpha A...</td>\n",
       "      <td>1</td>\n",
       "      <td>1</td>\n",
       "    </tr>\n",
       "    <tr>\n",
       "      <th>2005-11-22</th>\n",
       "      <td>A Randomized Phase II Study of OGX-011 in Comb...</td>\n",
       "      <td>1</td>\n",
       "      <td>1</td>\n",
       "    </tr>\n",
       "    <tr>\n",
       "      <th>2018-09-05</th>\n",
       "      <td>Reproducibility of Lung Ultrasound in the Diag...</td>\n",
       "      <td>0</td>\n",
       "      <td>0</td>\n",
       "    </tr>\n",
       "    <tr>\n",
       "      <th>2015-06-04</th>\n",
       "      <td>Randomized Clinical Trial of Subtotal Parathyr...</td>\n",
       "      <td>1</td>\n",
       "      <td>1</td>\n",
       "    </tr>\n",
       "  </tbody>\n",
       "</table>\n",
       "</div>"
      ],
      "text/plain": [
       "                                                        title  predicted  \\\n",
       "date                                                                       \n",
       "2014-11-10  Examining the Feasibility and Efficacy of Adve...          1   \n",
       "2005-05-26  Effects of Tumor Necrosis Factor (TNF)-Alpha A...          1   \n",
       "2005-11-22  A Randomized Phase II Study of OGX-011 in Comb...          1   \n",
       "2018-09-05  Reproducibility of Lung Ultrasound in the Diag...          0   \n",
       "2015-06-04  Randomized Clinical Trial of Subtotal Parathyr...          1   \n",
       "\n",
       "            actual  \n",
       "date                \n",
       "2014-11-10       1  \n",
       "2005-05-26       1  \n",
       "2005-11-22       1  \n",
       "2018-09-05       0  \n",
       "2015-06-04       1  "
      ]
     },
     "execution_count": 19,
     "metadata": {},
     "output_type": "execute_result"
    }
   ],
   "source": [
    "# Creating the actual column\n",
    "y_test_array = np.array(y_test)\n",
    "predictions['actual'] = y_test_array\n",
    "predictions.head()"
   ]
  },
  {
   "cell_type": "code",
   "execution_count": 20,
   "metadata": {},
   "outputs": [
    {
     "data": {
      "text/html": [
       "<div>\n",
       "<style scoped>\n",
       "    .dataframe tbody tr th:only-of-type {\n",
       "        vertical-align: middle;\n",
       "    }\n",
       "\n",
       "    .dataframe tbody tr th {\n",
       "        vertical-align: top;\n",
       "    }\n",
       "\n",
       "    .dataframe thead th {\n",
       "        text-align: right;\n",
       "    }\n",
       "</style>\n",
       "<table border=\"1\" class=\"dataframe\">\n",
       "  <thead>\n",
       "    <tr style=\"text-align: right;\">\n",
       "      <th></th>\n",
       "      <th>title</th>\n",
       "      <th>predicted</th>\n",
       "      <th>actual</th>\n",
       "    </tr>\n",
       "    <tr>\n",
       "      <th>date</th>\n",
       "      <th></th>\n",
       "      <th></th>\n",
       "      <th></th>\n",
       "    </tr>\n",
       "  </thead>\n",
       "  <tbody>\n",
       "    <tr>\n",
       "      <th>2012-01-13</th>\n",
       "      <td>Comparison of C-reactive Protein and Procalcitonin to Detect Infectious Complications After Elective Colorectal Surgery</td>\n",
       "      <td>0</td>\n",
       "      <td>1</td>\n",
       "    </tr>\n",
       "    <tr>\n",
       "      <th>2008-07-07</th>\n",
       "      <td>Monitoring of Fluid Status in Heart Failure Patients by Intrathoracic Impedance Measurement</td>\n",
       "      <td>0</td>\n",
       "      <td>1</td>\n",
       "    </tr>\n",
       "    <tr>\n",
       "      <th>2008-07-03</th>\n",
       "      <td>Predicting Weight Loss in People With Cancer: Development of a Screening Tool</td>\n",
       "      <td>0</td>\n",
       "      <td>1</td>\n",
       "    </tr>\n",
       "    <tr>\n",
       "      <th>2013-07-15</th>\n",
       "      <td>Measuring Recovery in Patients Undergoing Major Abdominal, Thoracic, and Arthroplasty Surgery Using an Enhanced Recovery Program.</td>\n",
       "      <td>1</td>\n",
       "      <td>0</td>\n",
       "    </tr>\n",
       "    <tr>\n",
       "      <th>2008-06-02</th>\n",
       "      <td>The Impact of African American Women's Hair Care Practices and Hair Attitudes on Exercise Habits</td>\n",
       "      <td>1</td>\n",
       "      <td>0</td>\n",
       "    </tr>\n",
       "    <tr>\n",
       "      <th>2006-04-24</th>\n",
       "      <td>The Pre-symptomatic Familial Amyotrophic Lateral Sclerosis (Pre-fALS) Study</td>\n",
       "      <td>1</td>\n",
       "      <td>0</td>\n",
       "    </tr>\n",
       "    <tr>\n",
       "      <th>2009-09-01</th>\n",
       "      <td>Ambulatory Urodynamic Evaluation of Sacral Neuromodulation for Non-obstructive Urinary Retention</td>\n",
       "      <td>1</td>\n",
       "      <td>0</td>\n",
       "    </tr>\n",
       "    <tr>\n",
       "      <th>2007-06-04</th>\n",
       "      <td>Outcomes Following Image-Guided Therapy for Hepatic Malignancies</td>\n",
       "      <td>1</td>\n",
       "      <td>0</td>\n",
       "    </tr>\n",
       "    <tr>\n",
       "      <th>2012-01-03</th>\n",
       "      <td>The Role of the Novel 99mTc-NC100692 Tracer in Patients at High Risk or Known Breast Cancer</td>\n",
       "      <td>1</td>\n",
       "      <td>0</td>\n",
       "    </tr>\n",
       "    <tr>\n",
       "      <th>2018-11-13</th>\n",
       "      <td>Effect of Biomechanical Alignment and Jaw Movement on Females With Pelvic Pain</td>\n",
       "      <td>1</td>\n",
       "      <td>0</td>\n",
       "    </tr>\n",
       "    <tr>\n",
       "      <th>2016-05-25</th>\n",
       "      <td>Histological Differentiation Grade Predicted by Ultrasound Backscatterer Imaging</td>\n",
       "      <td>1</td>\n",
       "      <td>0</td>\n",
       "    </tr>\n",
       "    <tr>\n",
       "      <th>2011-07-20</th>\n",
       "      <td>Influence of Fatigue and Speed on Electromyographic Activity of Lower Extremity Muscles During Selected Weight Bearing Exercises Commonly Used for Fitness and Rehabilitation</td>\n",
       "      <td>1</td>\n",
       "      <td>0</td>\n",
       "    </tr>\n",
       "    <tr>\n",
       "      <th>2019-07-03</th>\n",
       "      <td>Prospective Identification of Predictive Biomarkers of Trabectedin Efficacy in Non-L Soft-tissue Sarcoma Patients</td>\n",
       "      <td>0</td>\n",
       "      <td>1</td>\n",
       "    </tr>\n",
       "    <tr>\n",
       "      <th>2005-09-12</th>\n",
       "      <td>MODULA-Study: Modul 10: Benefit of CRT-therapy in CRT-Patients With QRS-complex of 120 - 150 ms</td>\n",
       "      <td>1</td>\n",
       "      <td>0</td>\n",
       "    </tr>\n",
       "    <tr>\n",
       "      <th>2017-09-19</th>\n",
       "      <td>Treatment of a PDA With Acetaminophen in Preterm Neonates: Exploring Various Indications</td>\n",
       "      <td>1</td>\n",
       "      <td>0</td>\n",
       "    </tr>\n",
       "  </tbody>\n",
       "</table>\n",
       "</div>"
      ],
      "text/plain": [
       "                                                                                                                                                                                    title  \\\n",
       "date                                                                                                                                                                                        \n",
       "2012-01-13  Comparison of C-reactive Protein and Procalcitonin to Detect Infectious Complications After Elective Colorectal Surgery                                                         \n",
       "2008-07-07  Monitoring of Fluid Status in Heart Failure Patients by Intrathoracic Impedance Measurement                                                                                     \n",
       "2008-07-03  Predicting Weight Loss in People With Cancer: Development of a Screening Tool                                                                                                   \n",
       "2013-07-15  Measuring Recovery in Patients Undergoing Major Abdominal, Thoracic, and Arthroplasty Surgery Using an Enhanced Recovery Program.                                               \n",
       "2008-06-02  The Impact of African American Women's Hair Care Practices and Hair Attitudes on Exercise Habits                                                                                \n",
       "2006-04-24  The Pre-symptomatic Familial Amyotrophic Lateral Sclerosis (Pre-fALS) Study                                                                                                     \n",
       "2009-09-01  Ambulatory Urodynamic Evaluation of Sacral Neuromodulation for Non-obstructive Urinary Retention                                                                                \n",
       "2007-06-04  Outcomes Following Image-Guided Therapy for Hepatic Malignancies                                                                                                                \n",
       "2012-01-03  The Role of the Novel 99mTc-NC100692 Tracer in Patients at High Risk or Known Breast Cancer                                                                                     \n",
       "2018-11-13  Effect of Biomechanical Alignment and Jaw Movement on Females With Pelvic Pain                                                                                                  \n",
       "2016-05-25  Histological Differentiation Grade Predicted by Ultrasound Backscatterer Imaging                                                                                                \n",
       "2011-07-20  Influence of Fatigue and Speed on Electromyographic Activity of Lower Extremity Muscles During Selected Weight Bearing Exercises Commonly Used for Fitness and Rehabilitation   \n",
       "2019-07-03  Prospective Identification of Predictive Biomarkers of Trabectedin Efficacy in Non-L Soft-tissue Sarcoma Patients                                                               \n",
       "2005-09-12  MODULA-Study: Modul 10: Benefit of CRT-therapy in CRT-Patients With QRS-complex of 120 - 150 ms                                                                                 \n",
       "2017-09-19  Treatment of a PDA With Acetaminophen in Preterm Neonates: Exploring Various Indications                                                                                        \n",
       "\n",
       "            predicted  actual  \n",
       "date                           \n",
       "2012-01-13  0          1       \n",
       "2008-07-07  0          1       \n",
       "2008-07-03  0          1       \n",
       "2013-07-15  1          0       \n",
       "2008-06-02  1          0       \n",
       "2006-04-24  1          0       \n",
       "2009-09-01  1          0       \n",
       "2007-06-04  1          0       \n",
       "2012-01-03  1          0       \n",
       "2018-11-13  1          0       \n",
       "2016-05-25  1          0       \n",
       "2011-07-20  1          0       \n",
       "2019-07-03  0          1       \n",
       "2005-09-12  1          0       \n",
       "2017-09-19  1          0       "
      ]
     },
     "execution_count": 20,
     "metadata": {},
     "output_type": "execute_result"
    }
   ],
   "source": [
    "# Viewing the entire title\n",
    "pd.set_option('display.max_colwidth', -1)\n",
    "# Showing studies that were incorrectly predicted\n",
    "predictions.loc[predictions['predicted'] != predictions['actual']].head(15)"
   ]
  },
  {
   "cell_type": "code",
   "execution_count": 21,
   "metadata": {},
   "outputs": [
    {
     "data": {
      "text/html": [
       "<div>\n",
       "<style scoped>\n",
       "    .dataframe tbody tr th:only-of-type {\n",
       "        vertical-align: middle;\n",
       "    }\n",
       "\n",
       "    .dataframe tbody tr th {\n",
       "        vertical-align: top;\n",
       "    }\n",
       "\n",
       "    .dataframe thead th {\n",
       "        text-align: right;\n",
       "    }\n",
       "</style>\n",
       "<table border=\"1\" class=\"dataframe\">\n",
       "  <thead>\n",
       "    <tr style=\"text-align: right;\">\n",
       "      <th></th>\n",
       "      <th>title</th>\n",
       "      <th>predicted</th>\n",
       "      <th>actual</th>\n",
       "    </tr>\n",
       "    <tr>\n",
       "      <th>date</th>\n",
       "      <th></th>\n",
       "      <th></th>\n",
       "      <th></th>\n",
       "    </tr>\n",
       "  </thead>\n",
       "  <tbody>\n",
       "    <tr>\n",
       "      <th>2014-11-10</th>\n",
       "      <td>Examining the Feasibility and Efficacy of Adventure Based Therapy as a Treatment Intevention for Depression and Anxiety.</td>\n",
       "      <td>1</td>\n",
       "      <td>1</td>\n",
       "    </tr>\n",
       "    <tr>\n",
       "      <th>2005-05-26</th>\n",
       "      <td>Effects of Tumor Necrosis Factor (TNF)-Alpha Antagonism in Patients With Metabolic Syndrome</td>\n",
       "      <td>1</td>\n",
       "      <td>1</td>\n",
       "    </tr>\n",
       "    <tr>\n",
       "      <th>2005-11-22</th>\n",
       "      <td>A Randomized Phase II Study of OGX-011 in Combination With Docetaxel and Prednisone or Docetaxel and Prednisone Alone in Patients With Metastatic Hormone Refractory Prostate Cancer</td>\n",
       "      <td>1</td>\n",
       "      <td>1</td>\n",
       "    </tr>\n",
       "    <tr>\n",
       "      <th>2018-09-05</th>\n",
       "      <td>Reproducibility of Lung Ultrasound in the Diagnosis of Acute Heart Failure in the Emergency Department (ED)</td>\n",
       "      <td>0</td>\n",
       "      <td>0</td>\n",
       "    </tr>\n",
       "    <tr>\n",
       "      <th>2015-06-04</th>\n",
       "      <td>Randomized Clinical Trial of Subtotal Parathyroidectomy or Total Parathyroidectomy With Immediate Heterotopic Autograft in Chronic Renal Disease Patients Stage V Under Dialysis</td>\n",
       "      <td>1</td>\n",
       "      <td>1</td>\n",
       "    </tr>\n",
       "    <tr>\n",
       "      <th>2014-04-21</th>\n",
       "      <td>Online Collaborative Learning Intervention to Prevent Perinatal Depression</td>\n",
       "      <td>1</td>\n",
       "      <td>1</td>\n",
       "    </tr>\n",
       "    <tr>\n",
       "      <th>2019-12-10</th>\n",
       "      <td>Investigation of the Incidence of Lingual Nerve Injury and Related Factors in Patients With Difficult Intubation</td>\n",
       "      <td>0</td>\n",
       "      <td>0</td>\n",
       "    </tr>\n",
       "    <tr>\n",
       "      <th>2013-11-11</th>\n",
       "      <td>A Feasibility Study to Evaluate Safety and Initial Effectiveness of ExAblate Transcranial MR Guided Focused Ultrasound Treatment of Medication-Refractory OCD</td>\n",
       "      <td>1</td>\n",
       "      <td>1</td>\n",
       "    </tr>\n",
       "    <tr>\n",
       "      <th>2005-09-08</th>\n",
       "      <td>An Open-label Study of the Single-dose Pharmacokinetics of Olmesartan Medoxomil in Pediatric Patients With Hypertension</td>\n",
       "      <td>1</td>\n",
       "      <td>1</td>\n",
       "    </tr>\n",
       "    <tr>\n",
       "      <th>2013-11-18</th>\n",
       "      <td>Comparison of 18F FDG PET/CT TO PET MRI</td>\n",
       "      <td>1</td>\n",
       "      <td>1</td>\n",
       "    </tr>\n",
       "    <tr>\n",
       "      <th>2002-12-09</th>\n",
       "      <td>An Investigation of Endothelium-Derived Vasodilation in Patients With Fabry's Disease</td>\n",
       "      <td>0</td>\n",
       "      <td>0</td>\n",
       "    </tr>\n",
       "    <tr>\n",
       "      <th>2010-01-20</th>\n",
       "      <td>A Clinical Trial to Establish The Effectiveness of Daily Co-trimoxazole Prophylaxis For Prevention of Malaria in Pregnancy</td>\n",
       "      <td>1</td>\n",
       "      <td>1</td>\n",
       "    </tr>\n",
       "    <tr>\n",
       "      <th>2017-03-19</th>\n",
       "      <td>Magnesium Deficiency In Patients Hospitalized in Internal Medicine Wards</td>\n",
       "      <td>1</td>\n",
       "      <td>1</td>\n",
       "    </tr>\n",
       "    <tr>\n",
       "      <th>2011-10-27</th>\n",
       "      <td>A Phase II Open-Label Extension Study to Evaluate the Long-Term Safety of Etrolizumab in Patients With Moderate to Severe Ulcerative Colitis</td>\n",
       "      <td>1</td>\n",
       "      <td>1</td>\n",
       "    </tr>\n",
       "    <tr>\n",
       "      <th>2017-11-08</th>\n",
       "      <td>Intravitreal Alflibercept Injection (IAI) for Persistent Diabetic Macular Edema (DME) After Treatment With Bevacizumab And Ranibizumab</td>\n",
       "      <td>1</td>\n",
       "      <td>1</td>\n",
       "    </tr>\n",
       "  </tbody>\n",
       "</table>\n",
       "</div>"
      ],
      "text/plain": [
       "                                                                                                                                                                                           title  \\\n",
       "date                                                                                                                                                                                               \n",
       "2014-11-10  Examining the Feasibility and Efficacy of Adventure Based Therapy as a Treatment Intevention for Depression and Anxiety.                                                               \n",
       "2005-05-26  Effects of Tumor Necrosis Factor (TNF)-Alpha Antagonism in Patients With Metabolic Syndrome                                                                                            \n",
       "2005-11-22  A Randomized Phase II Study of OGX-011 in Combination With Docetaxel and Prednisone or Docetaxel and Prednisone Alone in Patients With Metastatic Hormone Refractory Prostate Cancer   \n",
       "2018-09-05  Reproducibility of Lung Ultrasound in the Diagnosis of Acute Heart Failure in the Emergency Department (ED)                                                                            \n",
       "2015-06-04  Randomized Clinical Trial of Subtotal Parathyroidectomy or Total Parathyroidectomy With Immediate Heterotopic Autograft in Chronic Renal Disease Patients Stage V Under Dialysis       \n",
       "2014-04-21  Online Collaborative Learning Intervention to Prevent Perinatal Depression                                                                                                             \n",
       "2019-12-10  Investigation of the Incidence of Lingual Nerve Injury and Related Factors in Patients With Difficult Intubation                                                                       \n",
       "2013-11-11  A Feasibility Study to Evaluate Safety and Initial Effectiveness of ExAblate Transcranial MR Guided Focused Ultrasound Treatment of Medication-Refractory OCD                          \n",
       "2005-09-08  An Open-label Study of the Single-dose Pharmacokinetics of Olmesartan Medoxomil in Pediatric Patients With Hypertension                                                                \n",
       "2013-11-18  Comparison of 18F FDG PET/CT TO PET MRI                                                                                                                                                \n",
       "2002-12-09  An Investigation of Endothelium-Derived Vasodilation in Patients With Fabry's Disease                                                                                                  \n",
       "2010-01-20  A Clinical Trial to Establish The Effectiveness of Daily Co-trimoxazole Prophylaxis For Prevention of Malaria in Pregnancy                                                             \n",
       "2017-03-19  Magnesium Deficiency In Patients Hospitalized in Internal Medicine Wards                                                                                                               \n",
       "2011-10-27  A Phase II Open-Label Extension Study to Evaluate the Long-Term Safety of Etrolizumab in Patients With Moderate to Severe Ulcerative Colitis                                           \n",
       "2017-11-08  Intravitreal Alflibercept Injection (IAI) for Persistent Diabetic Macular Edema (DME) After Treatment With Bevacizumab And Ranibizumab                                                 \n",
       "\n",
       "            predicted  actual  \n",
       "date                           \n",
       "2014-11-10  1          1       \n",
       "2005-05-26  1          1       \n",
       "2005-11-22  1          1       \n",
       "2018-09-05  0          0       \n",
       "2015-06-04  1          1       \n",
       "2014-04-21  1          1       \n",
       "2019-12-10  0          0       \n",
       "2013-11-11  1          1       \n",
       "2005-09-08  1          1       \n",
       "2013-11-18  1          1       \n",
       "2002-12-09  0          0       \n",
       "2010-01-20  1          1       \n",
       "2017-03-19  1          1       \n",
       "2011-10-27  1          1       \n",
       "2017-11-08  1          1       "
      ]
     },
     "execution_count": 21,
     "metadata": {},
     "output_type": "execute_result"
    }
   ],
   "source": [
    "# Showing studies that were correctly predicted\n",
    "predictions.loc[predictions['predicted'] == predictions['actual']].head(15)"
   ]
  },
  {
   "cell_type": "markdown",
   "metadata": {},
   "source": [
    "Judging by the above, it may be tough to determine why study titles were misclassified, aside from titles containing words such as \"trial\" or \"phase\" or \"randomized.\" Also, study titles vary depending on the investigator's preference and writing style."
   ]
  },
  {
   "cell_type": "markdown",
   "metadata": {},
   "source": [
    "#### Confusion matrix\n",
    "I will create a confusion matrix for the predictions and to also examine sensitivity and specificity."
   ]
  },
  {
   "cell_type": "code",
   "execution_count": 22,
   "metadata": {},
   "outputs": [],
   "source": [
    "# Generating predictions\n",
    "preds = lr.predict(X_test)"
   ]
  },
  {
   "cell_type": "code",
   "execution_count": 23,
   "metadata": {},
   "outputs": [],
   "source": [
    "# Making a confusion matrix variable\n",
    "cm = confusion_matrix(y_test, preds)"
   ]
  },
  {
   "cell_type": "code",
   "execution_count": 24,
   "metadata": {},
   "outputs": [
    {
     "name": "stdout",
     "output_type": "stream",
     "text": [
      "True Negatives: 7835\n",
      "False Positives: 5225\n",
      "False Negatives: 2654\n",
      "True Positives: 47960\n"
     ]
    }
   ],
   "source": [
    "# Listing out the true and false positives and negatives\n",
    "# Adapted from https://towardsdatascience.com/demystifying-confusion-matrix-confusion-9e82201592fd\n",
    "tn, fp, fn, tp = confusion_matrix(y_test, preds).ravel()\n",
    "print('True Negatives:', tn)\n",
    "print('False Positives:', fp)\n",
    "print('False Negatives:', fn)\n",
    "print('True Positives:', tp)"
   ]
  },
  {
   "cell_type": "code",
   "execution_count": 25,
   "metadata": {},
   "outputs": [
    {
     "data": {
      "text/html": [
       "<div>\n",
       "<style scoped>\n",
       "    .dataframe tbody tr th:only-of-type {\n",
       "        vertical-align: middle;\n",
       "    }\n",
       "\n",
       "    .dataframe tbody tr th {\n",
       "        vertical-align: top;\n",
       "    }\n",
       "\n",
       "    .dataframe thead th {\n",
       "        text-align: right;\n",
       "    }\n",
       "</style>\n",
       "<table border=\"1\" class=\"dataframe\">\n",
       "  <thead>\n",
       "    <tr style=\"text-align: right;\">\n",
       "      <th></th>\n",
       "      <th>predicted observational</th>\n",
       "      <th>predicted interventional</th>\n",
       "    </tr>\n",
       "  </thead>\n",
       "  <tbody>\n",
       "    <tr>\n",
       "      <th>actual observational</th>\n",
       "      <td>7835</td>\n",
       "      <td>5225</td>\n",
       "    </tr>\n",
       "    <tr>\n",
       "      <th>actual interventional</th>\n",
       "      <td>2654</td>\n",
       "      <td>47960</td>\n",
       "    </tr>\n",
       "  </tbody>\n",
       "</table>\n",
       "</div>"
      ],
      "text/plain": [
       "                       predicted observational  predicted interventional\n",
       "actual observational   7835                     5225                    \n",
       "actual interventional  2654                     47960                   "
      ]
     },
     "execution_count": 25,
     "metadata": {},
     "output_type": "execute_result"
    }
   ],
   "source": [
    "# Creating a confusion matrix\n",
    "cm_df = pd.DataFrame(cm, columns=['predicted observational', 'predicted interventional'], \n",
    "            index=['actual observational', 'actual interventional'])\n",
    "cm_df"
   ]
  },
  {
   "cell_type": "code",
   "execution_count": 26,
   "metadata": {},
   "outputs": [
    {
     "data": {
      "text/plain": [
       "0.9475639151222982"
      ]
     },
     "execution_count": 26,
     "metadata": {},
     "output_type": "execute_result"
    }
   ],
   "source": [
    "# Calculating sensitivity, the true positive rate\n",
    "47960 / (47960 + 2654)"
   ]
  },
  {
   "cell_type": "code",
   "execution_count": 27,
   "metadata": {},
   "outputs": [
    {
     "data": {
      "text/plain": [
       "0.5999234303215927"
      ]
     },
     "execution_count": 27,
     "metadata": {},
     "output_type": "execute_result"
    }
   ],
   "source": [
    "# Calculating specificity, the true negative rate\n",
    "7835 / (7835 + 5225)"
   ]
  },
  {
   "cell_type": "markdown",
   "metadata": {},
   "source": [
    "With sensitivity at ```0.9476```, the model is doing well at finding the true positives (interventional trials) but at ```0.5999```, not as well at finding the true negatives (observational studies)."
   ]
  },
  {
   "cell_type": "markdown",
   "metadata": {},
   "source": [
    "### Neural network\n",
    "\n",
    "Next, I will try creating a neural network to see if I can improve upon the accuracy score of ```0.8763```."
   ]
  },
  {
   "cell_type": "code",
   "execution_count": 28,
   "metadata": {},
   "outputs": [],
   "source": [
    "# Scaling is required for neual networks and a dense matrix is also needed\n",
    "ss = StandardScaler(with_mean = False)\n",
    "X_train_sc = ss.fit_transform(X_train).todense()\n",
    "X_test_sc = ss.transform(X_test).todense()"
   ]
  },
  {
   "cell_type": "code",
   "execution_count": 29,
   "metadata": {},
   "outputs": [
    {
     "data": {
      "text/plain": [
       "(254692, 5000)"
      ]
     },
     "execution_count": 29,
     "metadata": {},
     "output_type": "execute_result"
    }
   ],
   "source": [
    "# Getting the number of inputs\n",
    "X_train_sc.shape"
   ]
  },
  {
   "cell_type": "markdown",
   "metadata": {},
   "source": [
    "#### Network with 1 hidden layer, 1024 units, 10 epochs, and a batch size of 512"
   ]
  },
  {
   "cell_type": "code",
   "execution_count": 30,
   "metadata": {},
   "outputs": [
    {
     "name": "stdout",
     "output_type": "stream",
     "text": [
      "Train on 254692 samples, validate on 63674 samples\n",
      "Epoch 1/10\n",
      "254692/254692 [==============================] - 36s 140us/sample - loss: 0.3452 - acc: 0.8600 - val_loss: 0.2947 - val_acc: 0.8708\n",
      "Epoch 2/10\n",
      "254692/254692 [==============================] - 37s 144us/sample - loss: 0.2493 - acc: 0.8939 - val_loss: 0.2979 - val_acc: 0.8711\n",
      "Epoch 3/10\n",
      "254692/254692 [==============================] - 42s 166us/sample - loss: 0.2079 - acc: 0.9147 - val_loss: 0.3274 - val_acc: 0.8683\n",
      "Epoch 4/10\n",
      "254692/254692 [==============================] - 41s 160us/sample - loss: 0.1511 - acc: 0.9411 - val_loss: 0.3848 - val_acc: 0.8658\n",
      "Epoch 5/10\n",
      "254692/254692 [==============================] - 43s 169us/sample - loss: 0.1006 - acc: 0.9643 - val_loss: 0.4432 - val_acc: 0.8664\n",
      "Epoch 6/10\n",
      "254692/254692 [==============================] - 39s 154us/sample - loss: 0.0669 - acc: 0.9788 - val_loss: 0.5304 - val_acc: 0.8640\n",
      "Epoch 7/10\n",
      "254692/254692 [==============================] - 39s 152us/sample - loss: 0.0491 - acc: 0.9857 - val_loss: 0.5755 - val_acc: 0.8670\n",
      "Epoch 8/10\n",
      "254692/254692 [==============================] - 39s 153us/sample - loss: 0.0374 - acc: 0.9902 - val_loss: 0.5979 - val_acc: 0.8675\n",
      "Epoch 9/10\n",
      "254692/254692 [==============================] - 38s 147us/sample - loss: 0.0304 - acc: 0.9924 - val_loss: 0.6415 - val_acc: 0.8681\n",
      "Epoch 10/10\n",
      "254692/254692 [==============================] - 38s 148us/sample - loss: 0.0269 - acc: 0.9936 - val_loss: 0.6738 - val_acc: 0.8680\n"
     ]
    }
   ],
   "source": [
    "# Setting a random seed for reproducibility\n",
    "np.random.seed(2020)\n",
    "\n",
    "# Instantiating the model\n",
    "model = Sequential()\n",
    "\n",
    "# Adding the hidden layer\n",
    "model.add(Dense(units = 1024,\n",
    "               input_shape = (5000,),  \n",
    "               activation = 'relu'))  \n",
    "\n",
    "# Adding the final layer\n",
    "model.add(Dense(units = 1, activation = 'sigmoid')) \n",
    "\n",
    "# Compiling the model\n",
    "model.compile(loss = 'binary_crossentropy',\n",
    "             optimizer = 'adam',\n",
    "             metrics = ['acc']) \n",
    "\n",
    "# Fitting the model\n",
    "history = model.fit(x = X_train_sc, \n",
    "          y = y_train, \n",
    "          epochs = 10, \n",
    "          batch_size = 512, \n",
    "          validation_data = (X_test_sc, y_test),\n",
    "          verbose = 1)"
   ]
  },
  {
   "cell_type": "code",
   "execution_count": 31,
   "metadata": {},
   "outputs": [
    {
     "data": {
      "image/png": "[encoded data removed]",
      "text/plain": [
       "<Figure size 432x288 with 1 Axes>"
      ]
     },
     "metadata": {
      "needs_background": "light"
     },
     "output_type": "display_data"
    }
   ],
   "source": [
    "# Generate a line plot for loss\n",
    "plt.plot(history.history['loss'], label = 'Train Loss')\n",
    "plt.plot(history.history['val_loss'], label = 'Val Loss')\n",
    "plt.legend();"
   ]
  },
  {
   "cell_type": "code",
   "execution_count": 32,
   "metadata": {},
   "outputs": [
    {
     "data": {
      "image/png": "[encoded data removed]",
      "text/plain": [
       "<Figure size 432x288 with 1 Axes>"
      ]
     },
     "metadata": {
      "needs_background": "light"
     },
     "output_type": "display_data"
    }
   ],
   "source": [
    "# Generating a line plot for accuracy\n",
    "plt.plot(history.history['acc'], label = 'Train Accuracy')\n",
    "plt.plot(history.history['val_acc'], label = 'Val Accuracy')\n",
    "plt.legend();"
   ]
  },
  {
   "cell_type": "markdown",
   "metadata": {},
   "source": [
    "There was accuracy of ```0.9936``` on the train data but ```0.8690``` on the test data which is similar to the ```0.8763``` in the logistic regression model. I will try lowering the number of epochs since accuracy was highest early in the epochs and units for the next network.\n",
    "\n",
    "#### Network with 1 hidden layer, 18 units, 5 epochs, and a batch size of 512"
   ]
  },
  {
   "cell_type": "code",
   "execution_count": 33,
   "metadata": {},
   "outputs": [
    {
     "name": "stdout",
     "output_type": "stream",
     "text": [
      "Train on 254692 samples, validate on 63674 samples\n",
      "Epoch 1/5\n",
      "254692/254692 [==============================] - 14s 56us/sample - loss: 0.3295 - acc: 0.8560 - val_loss: 0.2959 - val_acc: 0.8707\n",
      "Epoch 2/5\n",
      "254692/254692 [==============================] - 14s 56us/sample - loss: 0.2651 - acc: 0.8864 - val_loss: 0.2920 - val_acc: 0.8733\n",
      "Epoch 3/5\n",
      "254692/254692 [==============================] - 14s 56us/sample - loss: 0.2445 - acc: 0.8968 - val_loss: 0.2951 - val_acc: 0.8726\n",
      "Epoch 4/5\n",
      "254692/254692 [==============================] - 14s 55us/sample - loss: 0.2255 - acc: 0.9061 - val_loss: 0.3077 - val_acc: 0.8701\n",
      "Epoch 5/5\n",
      "254692/254692 [==============================] - 14s 54us/sample - loss: 0.2072 - acc: 0.9147 - val_loss: 0.3238 - val_acc: 0.8683\n"
     ]
    }
   ],
   "source": [
    "# Setting a random seed for reproducibility\n",
    "np.random.seed(2020)\n",
    "\n",
    "# Instantiating another model\n",
    "model = Sequential()\n",
    "\n",
    "# Adding the hidden layer\n",
    "model.add(Dense(units = 18,\n",
    "               input_shape = (5000,),  \n",
    "               activation = 'relu'))  \n",
    "\n",
    "# Adding the final layer\n",
    "model.add(Dense(units = 1, activation = 'sigmoid')) \n",
    "\n",
    "# Compiling the model\n",
    "model.compile(loss = 'binary_crossentropy',\n",
    "             optimizer = 'adam',\n",
    "             metrics = ['acc']) \n",
    "\n",
    "# Fitting the model\n",
    "history = model.fit(x = X_train_sc, \n",
    "          y = y_train, \n",
    "          epochs = 5, \n",
    "          batch_size = 512, \n",
    "          validation_data = (X_test_sc, y_test),\n",
    "          verbose = 1)"
   ]
  },
  {
   "cell_type": "markdown",
   "metadata": {},
   "source": [
    "I'm still getting accuracy of ```0.8683```. I'll try adding a second layer.\n",
    "\n",
    "#### Network with 2 hidden layers, 18 units, 5 epochs, and a batch size of 512"
   ]
  },
  {
   "cell_type": "code",
   "execution_count": 34,
   "metadata": {},
   "outputs": [
    {
     "name": "stdout",
     "output_type": "stream",
     "text": [
      "Train on 254692 samples, validate on 63674 samples\n",
      "Epoch 1/5\n",
      "254692/254692 [==============================] - 13s 53us/sample - loss: 0.3256 - acc: 0.8551 - val_loss: 0.2918 - val_acc: 0.8725\n",
      "Epoch 2/5\n",
      "254692/254692 [==============================] - 13s 52us/sample - loss: 0.2650 - acc: 0.8854 - val_loss: 0.2899 - val_acc: 0.8727\n",
      "Epoch 3/5\n",
      "254692/254692 [==============================] - 14s 54us/sample - loss: 0.2426 - acc: 0.8965 - val_loss: 0.2953 - val_acc: 0.8705\n",
      "Epoch 4/5\n",
      "254692/254692 [==============================] - 13s 52us/sample - loss: 0.2217 - acc: 0.9070 - val_loss: 0.3087 - val_acc: 0.8662\n",
      "Epoch 5/5\n",
      "254692/254692 [==============================] - 14s 53us/sample - loss: 0.2007 - acc: 0.9165 - val_loss: 0.3310 - val_acc: 0.8671\n"
     ]
    }
   ],
   "source": [
    "# Setting a random seed for reproducibility\n",
    "np.random.seed(2020)\n",
    "\n",
    "# Instantiating another model\n",
    "model = Sequential()\n",
    "\n",
    "# Adding the hidden layer\n",
    "model.add(Dense(units = 18,\n",
    "               input_shape = (5000,),  \n",
    "               activation = 'relu'))  \n",
    "\n",
    "# Adding another hidden layer\n",
    "model.add(Dense(units = 32, activation = 'relu')) \n",
    "\n",
    "# Adding the final layer\n",
    "model.add(Dense(units = 1, activation = 'sigmoid')) \n",
    "\n",
    "# Compiling the model\n",
    "model.compile(loss = 'binary_crossentropy',\n",
    "             optimizer = 'adam',\n",
    "             metrics = ['acc']) \n",
    "\n",
    "# Fitting the model\n",
    "history = model.fit(x = X_train_sc, \n",
    "          y = y_train, \n",
    "          epochs = 5, \n",
    "          batch_size = 512, \n",
    "          validation_data = (X_test_sc, y_test),\n",
    "          verbose = 1)"
   ]
  },
  {
   "cell_type": "markdown",
   "metadata": {},
   "source": [
    "The accuracy with this network is ```0.8671```.\n",
    "\n",
    "Unfortunately, the neural networks are not outperforming the logistic regression model. They are actually doing about the same. Future directions could include additional gridsearching and fine-tuning of parameters to see if a neural network might be able to have better accuracy than around 86-87%. However, these results might be expected given the nature and quantity of data."
   ]
  }
 ],
 "metadata": {
  "kernelspec": {
   "display_name": "Python 3",
   "language": "python",
   "name": "python3"
  },
  "language_info": {
   "codemirror_mode": {
    "name": "ipython",
    "version": 3
   },
   "file_extension": ".py",
   "mimetype": "text/x-python",
   "name": "python",
   "nbconvert_exporter": "python",
   "pygments_lexer": "ipython3",
   "version": "3.7.4"
  }
 },
 "nbformat": 4,
 "nbformat_minor": 2
}
